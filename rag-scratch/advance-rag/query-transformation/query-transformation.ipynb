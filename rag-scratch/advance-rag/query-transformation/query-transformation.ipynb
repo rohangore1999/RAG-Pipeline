{
 "cells": [
  {
   "cell_type": "markdown",
   "metadata": {},
   "source": [
    "## Types of Query Transformation\n",
    "\n",
    "- Improve User's Prompt\n",
    "    - Parallel Query Fan out Retrieval (filter_unique_query)\n",
    "    - Reciprocate Rank Fusion (Rank LLM Outpu)\n",
    "    - Query Decomposition (Breaking Query)\n",
    "        - Less Abstract (sync process)\n",
    "        - More Abstract (Step Back Prompting)\n",
    "    - HyDE (Hypothetical Document Embedding)"
   ]
  }
 ],
 "metadata": {
  "kernelspec": {
   "display_name": "venv",
   "language": "python",
   "name": "python3"
  },
  "language_info": {
   "name": "python",
   "version": "3.13.2"
  }
 },
 "nbformat": 4,
 "nbformat_minor": 2
}
