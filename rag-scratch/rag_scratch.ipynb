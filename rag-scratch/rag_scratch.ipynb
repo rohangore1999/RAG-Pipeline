{
 "cells": [
  {
   "cell_type": "markdown",
   "metadata": {},
   "source": [
    "## Basic RAG FLOW\n",
    "\n",
    "![basic rag flow image](basic-rag.png \"Basic RAG FLOW\")"
   ]
  },
  {
   "cell_type": "markdown",
   "metadata": {},
   "source": [
    "## RAG FLOW\n",
    "\n",
    "![rag flow image](flow.png \"RAG FLOW\")"
   ]
  },
  {
   "cell_type": "code",
   "execution_count": 2,
   "metadata": {},
   "outputs": [
    {
     "data": {
      "text/plain": [
       "True"
      ]
     },
     "execution_count": 2,
     "metadata": {},
     "output_type": "execute_result"
    }
   ],
   "source": [
    "import os\n",
    "from dotenv import load_dotenv\n",
    "from pathlib import Path\n",
    "from langchain_community.document_loaders import PyPDFLoader\n",
    "from langchain_text_splitters import RecursiveCharacterTextSplitter\n",
    "from langchain_openai import OpenAIEmbeddings\n",
    "from langchain_qdrant import QdrantVectorStore\n",
    "from openai import OpenAI\n",
    "\n",
    "load_dotenv()"
   ]
  },
  {
   "cell_type": "code",
   "execution_count": 4,
   "metadata": {},
   "outputs": [],
   "source": [
    "file_path = \"./data/somatosensory.pdf\"\n",
    "\n",
    "loader = PyPDFLoader(file_path)"
   ]
  },
  {
   "cell_type": "markdown",
   "metadata": {},
   "source": [
    "## 1. Loading Data"
   ]
  },
  {
   "cell_type": "code",
   "execution_count": 8,
   "metadata": {},
   "outputs": [
    {
     "data": {
      "text/plain": [
       "[Document(metadata={'producer': 'Prince 20150210 (www.princexml.com)', 'creator': 'PyPDF', 'creationdate': '', 'title': 'Anatomy of the Somatosensory System', 'source': './data/somatosensory.pdf', 'total_pages': 4, 'page': 0, 'page_label': '1'}, page_content='This is a sample document to\\nshowcase page-based formatting. It\\ncontains a chapter from a Wikibook\\ncalled Sensory Systems. None of the\\ncontent has been changed in this\\narticle, but some content has been\\nremoved.\\nAnatomy of the Somatosensory System\\nFROM WIKIBOOKS1\\nOur somatosensory system consists of sensors in the skin\\nand sensors in our muscles, tendons, and joints. The re-\\nceptors in the skin, the so called cutaneous receptors, tell\\nus about temperature (thermoreceptors), pressure and sur-\\nface texture (mechano receptors), and pain (nociceptors).\\nThe receptors in muscles and joints provide information\\nabout muscle length, muscle tension, and joint angles.\\nCutaneous receptors\\nSensory information from Meissner corpuscles and rapidly\\nadapting afferents leads to adjustment of grip force when\\nobjects are lifted. These afferents respond with a brief\\nburst of action potentials when objects move a small dis-\\ntance during the early stages of lifting. In response to\\nFigure 1: Receptors in the hu-\\nman skin: Mechanoreceptors can\\nbe free receptors or encapsulated.\\nExamples for free receptors are\\nthe hair receptors at the roots of\\nhairs. Encapsulated receptors are\\nthe Pacinian corpuscles and the\\nreceptors in the glabrous (hair-\\nless) skin: Meissner corpuscles,\\nRuffini corpuscles and Merkel’s\\ndisks.\\nHairy skinGlabrous skin\\nEpidermis\\nDermis\\nPaciniancorpuscle\\nPapillary Ridges\\nSepta\\nRuffini’s corpuscle\\nHair receptor\\nMeissner’scorpuscleSebaceousgland\\nFree nerveendingMerkel’sreceptor\\n1 The following description is based on lecture notes from Laszlo Zaborszky, from Rutgers University.\\n1'),\n",
       " Document(metadata={'producer': 'Prince 20150210 (www.princexml.com)', 'creator': 'PyPDF', 'creationdate': '', 'title': 'Anatomy of the Somatosensory System', 'source': './data/somatosensory.pdf', 'total_pages': 4, 'page': 1, 'page_label': '2'}, page_content='Figure 2: Mammalian muscle\\nspindle showing typical position\\nin a muscle (left), neuronal con-\\nnections in spinal cord (middle)\\nand expanded schematic (right).\\nThe spindle is a stretch receptor\\nwith its own motor supply con-\\nsisting of several intrafusal mus-\\ncle fibres. The sensory endings of\\na primary (group Ia) afferent and\\na secondary (group II) afferent\\ncoil around the non-contractile\\ncentral portions of the intrafusal\\nfibres.\\nrapidly adapting afferent activity, muscle force increases\\nreflexively until the gripped object no longer moves. Such\\na rapid response to a tactile stimulus is a clear indication\\nof the role played by somatosensory neurons in motor ac-\\ntivity.\\nThe slowly adapting Merkel’s receptors are responsible\\nfor form and texture perception. As would be expected for\\nreceptors mediating form perception, Merkel’s receptors\\nare present at high density in the digits and around the\\nmouth (50/mm² of skin surface), at lower density in oth-\\ner glabrous surfaces, and at very low density in hairy skin.\\nThis innervations density shrinks progressively with the\\npassage of time so that by the age of 50, the density in hu-\\nman digits is reduced to 10/mm². Unlike rapidly adapting\\naxons, slowly adapting fibers respond not only to the ini-\\ntial indentation of skin, but also to sustained indentation\\nup to several seconds in duration.\\nActivation of the rapidly adapting Pacinian corpuscles\\ngives a feeling of vibration, while the slowly adapting\\nRuffini corpuscles respond to the lataral movement or\\nstretching of skin.\\nNociceptors\\nNociceptors have free nerve endings. Functionally, skin\\nnociceptors are either high-threshold mechanoreceptors\\nFrom Wikibooks\\n2'),\n",
       " Document(metadata={'producer': 'Prince 20150210 (www.princexml.com)', 'creator': 'PyPDF', 'creationdate': '', 'title': 'Anatomy of the Somatosensory System', 'source': './data/somatosensory.pdf', 'total_pages': 4, 'page': 2, 'page_label': '3'}, page_content='Rapidly adapting Slowly adapting\\nSurface receptor /\\nsmall receptive\\nfield\\nHair receptor, Meissner’s corpuscle: De-\\ntect an insect or a very fine vibration.\\nUsed for recognizing texture.\\nMerkel’s receptor: Used for spa-\\ntial details, e.g. a round surface\\nedge or “an X” in brail.\\nDeep receptor /\\nlarge receptive\\nfield\\nPacinian corpuscle: “A diffuse vibra-\\ntion” e.g. tapping with a pencil.\\nRuffini’s corpuscle: “A skin\\nstretch”. Used for joint position\\nin fingers.\\nTable 1\\nNotice how figure captions and\\nsidenotes are shown in the outside\\nmargin (on the left or right, depending\\non whether the page is left or right).\\nAlso, figures are floated to the top/\\nbottom of the page. Wide content, like\\nthe table and Figure 3, intrude into the\\noutside margins.\\nor polymodal receptors. Polymodal receptors respond not\\nonly to intense mechanical stimuli, but also to heat and\\nto noxious chemicals. These receptors respond to minute\\npunctures of the epithelium, with a response magnitude\\nthat depends on the degree of tissue deformation. They al-\\nso respond to temperatures in the range of 40–60°C, and\\nchange their response rates as a linear function of warm-\\ning (in contrast with the saturating responses displayed by\\nnon-noxious thermoreceptors at high temperatures).\\nPain signals can be separated into individual compo-\\nnents, corresponding to different types of nerve fibers\\nused for transmitting these signals. The rapidly transmit-\\nted signal, which often has high spatial resolution, is\\ncalled first pain or cutaneous pricking pain. It is well local-\\nized and easily tolerated. The much slower, highly affec-\\ntive component is called second pain or burning pain; it is\\npoorly localized and poorly tolerated. The third or deep\\npain, arising from viscera, musculature and joints, is also\\npoorly localized, can be chronic and is often associated\\nwith referred pain.\\nMuscle Spindles\\nScattered throughout virtually every striated muscle in the\\nbody are long, thin, stretch receptors called muscle spin-\\ndles. They are quite simple in principle, consisting of a few\\nsmall muscle fibers with a capsule surrounding the middle\\nthird of the fibers. These fibers are called intrafusal fibers,\\nin contrast to the ordinary extrafusal fibers. The ends of the\\nintrafusal fibers are attached to extrafusal fibers, so when-\\never the muscle is stretched, the intrafusal fibers are also\\nAnatomy of the Somatosensory System\\n3'),\n",
       " Document(metadata={'producer': 'Prince 20150210 (www.princexml.com)', 'creator': 'PyPDF', 'creationdate': '', 'title': 'Anatomy of the Somatosensory System', 'source': './data/somatosensory.pdf', 'total_pages': 4, 'page': 3, 'page_label': '4'}, page_content='Forcecontrolsignal\\nDrivingsignal\\nLengthcontrolsignal\\nLoad\\nExternalforces\\nTendonorgansMuscle force\\nMusclelength\\nForce feedback\\nLength &velocityfeedback\\nForce (Golgi tendon organ)\\nSpindles\\nGamma bias\\nLength (secondary muscle-spindel afferents)Length error (primary muscle-spindel afferents)Velocity (primary muscle-spindel afferents)\\nMuscle\\nInter-neurons\\nFigure 3: Feedback loops for proprioceptive signals for the perception and control of limb move-\\nments. Arrows indicate excitatory connections; filled circles inhibitory connections.\\nFor more examples of how to use\\nHTML and CSS for paper-based\\npublishing, see css4.pub.\\nstretched. The central region of each intrafusal fiber has\\nfew myofilaments and is non-contractile, but it does have\\none or more sensory endings applied to it. When the mus-\\ncle is stretched, the central part of the intrafusal fiber is\\nstretched and each sensory ending fires impulses.\\nMuscle spindles also receive a motor innervation. The\\nlarge motor neurons that supply extrafusal muscle fibers\\nare called alpha motor neurons, while the smaller ones sup-\\nplying the contractile portions of intrafusal fibers are\\ncalled gamma neurons. Gamma motor neurons can regu-\\nlate the sensitivity of the muscle spindle so that this sensi-\\ntivity can be maintained at any given muscle length.\\nJoint receptors\\nThe joint receptors are low-threshold mechanoreceptors\\nand have been divided into four groups. They signal differ-\\nent characteristics of joint function (position, movements,\\ndirection and speed of movements). The free receptors or\\ntype 4 joint receptors are nociceptors.\\nFrom Wikibooks\\n4')]"
      ]
     },
     "execution_count": 8,
     "metadata": {},
     "output_type": "execute_result"
    }
   ],
   "source": [
    "# 1 Data loading\n",
    "docs = loader.load()\n",
    "docs"
   ]
  },
  {
   "cell_type": "markdown",
   "metadata": {},
   "source": [
    "## 2. Chunking"
   ]
  },
  {
   "cell_type": "code",
   "execution_count": 7,
   "metadata": {},
   "outputs": [
    {
     "data": {
      "text/plain": [
       "[Document(metadata={'producer': 'Prince 20150210 (www.princexml.com)', 'creator': 'PyPDF', 'creationdate': '', 'title': 'Anatomy of the Somatosensory System', 'source': './data/somatosensory.pdf', 'total_pages': 4, 'page': 0, 'page_label': '1'}, page_content='This is a sample document to\\nshowcase page-based formatting. It\\ncontains a chapter from a Wikibook\\ncalled Sensory Systems. None of the\\ncontent has been changed in this\\narticle, but some content has been\\nremoved.\\nAnatomy of the Somatosensory System\\nFROM WIKIBOOKS1\\nOur somatosensory system consists of sensors in the skin\\nand sensors in our muscles, tendons, and joints. The re-\\nceptors in the skin, the so called cutaneous receptors, tell\\nus about temperature (thermoreceptors), pressure and sur-\\nface texture (mechano receptors), and pain (nociceptors).\\nThe receptors in muscles and joints provide information\\nabout muscle length, muscle tension, and joint angles.\\nCutaneous receptors\\nSensory information from Meissner corpuscles and rapidly\\nadapting afferents leads to adjustment of grip force when\\nobjects are lifted. These afferents respond with a brief\\nburst of action potentials when objects move a small dis-\\ntance during the early stages of lifting. In response to'),\n",
       " Document(metadata={'producer': 'Prince 20150210 (www.princexml.com)', 'creator': 'PyPDF', 'creationdate': '', 'title': 'Anatomy of the Somatosensory System', 'source': './data/somatosensory.pdf', 'total_pages': 4, 'page': 0, 'page_label': '1'}, page_content='objects are lifted. These afferents respond with a brief\\nburst of action potentials when objects move a small dis-\\ntance during the early stages of lifting. In response to\\nFigure 1: Receptors in the hu-\\nman skin: Mechanoreceptors can\\nbe free receptors or encapsulated.\\nExamples for free receptors are\\nthe hair receptors at the roots of\\nhairs. Encapsulated receptors are\\nthe Pacinian corpuscles and the\\nreceptors in the glabrous (hair-\\nless) skin: Meissner corpuscles,\\nRuffini corpuscles and Merkel’s\\ndisks.\\nHairy skinGlabrous skin\\nEpidermis\\nDermis\\nPaciniancorpuscle\\nPapillary Ridges\\nSepta\\nRuffini’s corpuscle\\nHair receptor\\nMeissner’scorpuscleSebaceousgland\\nFree nerveendingMerkel’sreceptor\\n1 The following description is based on lecture notes from Laszlo Zaborszky, from Rutgers University.\\n1'),\n",
       " Document(metadata={'producer': 'Prince 20150210 (www.princexml.com)', 'creator': 'PyPDF', 'creationdate': '', 'title': 'Anatomy of the Somatosensory System', 'source': './data/somatosensory.pdf', 'total_pages': 4, 'page': 1, 'page_label': '2'}, page_content='Figure 2: Mammalian muscle\\nspindle showing typical position\\nin a muscle (left), neuronal con-\\nnections in spinal cord (middle)\\nand expanded schematic (right).\\nThe spindle is a stretch receptor\\nwith its own motor supply con-\\nsisting of several intrafusal mus-\\ncle fibres. The sensory endings of\\na primary (group Ia) afferent and\\na secondary (group II) afferent\\ncoil around the non-contractile\\ncentral portions of the intrafusal\\nfibres.\\nrapidly adapting afferent activity, muscle force increases\\nreflexively until the gripped object no longer moves. Such\\na rapid response to a tactile stimulus is a clear indication\\nof the role played by somatosensory neurons in motor ac-\\ntivity.\\nThe slowly adapting Merkel’s receptors are responsible\\nfor form and texture perception. As would be expected for\\nreceptors mediating form perception, Merkel’s receptors\\nare present at high density in the digits and around the\\nmouth (50/mm² of skin surface), at lower density in oth-'),\n",
       " Document(metadata={'producer': 'Prince 20150210 (www.princexml.com)', 'creator': 'PyPDF', 'creationdate': '', 'title': 'Anatomy of the Somatosensory System', 'source': './data/somatosensory.pdf', 'total_pages': 4, 'page': 1, 'page_label': '2'}, page_content='receptors mediating form perception, Merkel’s receptors\\nare present at high density in the digits and around the\\nmouth (50/mm² of skin surface), at lower density in oth-\\ner glabrous surfaces, and at very low density in hairy skin.\\nThis innervations density shrinks progressively with the\\npassage of time so that by the age of 50, the density in hu-\\nman digits is reduced to 10/mm². Unlike rapidly adapting\\naxons, slowly adapting fibers respond not only to the ini-\\ntial indentation of skin, but also to sustained indentation\\nup to several seconds in duration.\\nActivation of the rapidly adapting Pacinian corpuscles\\ngives a feeling of vibration, while the slowly adapting\\nRuffini corpuscles respond to the lataral movement or\\nstretching of skin.\\nNociceptors\\nNociceptors have free nerve endings. Functionally, skin\\nnociceptors are either high-threshold mechanoreceptors\\nFrom Wikibooks\\n2'),\n",
       " Document(metadata={'producer': 'Prince 20150210 (www.princexml.com)', 'creator': 'PyPDF', 'creationdate': '', 'title': 'Anatomy of the Somatosensory System', 'source': './data/somatosensory.pdf', 'total_pages': 4, 'page': 2, 'page_label': '3'}, page_content='Rapidly adapting Slowly adapting\\nSurface receptor /\\nsmall receptive\\nfield\\nHair receptor, Meissner’s corpuscle: De-\\ntect an insect or a very fine vibration.\\nUsed for recognizing texture.\\nMerkel’s receptor: Used for spa-\\ntial details, e.g. a round surface\\nedge or “an X” in brail.\\nDeep receptor /\\nlarge receptive\\nfield\\nPacinian corpuscle: “A diffuse vibra-\\ntion” e.g. tapping with a pencil.\\nRuffini’s corpuscle: “A skin\\nstretch”. Used for joint position\\nin fingers.\\nTable 1\\nNotice how figure captions and\\nsidenotes are shown in the outside\\nmargin (on the left or right, depending\\non whether the page is left or right).\\nAlso, figures are floated to the top/\\nbottom of the page. Wide content, like\\nthe table and Figure 3, intrude into the\\noutside margins.\\nor polymodal receptors. Polymodal receptors respond not\\nonly to intense mechanical stimuli, but also to heat and\\nto noxious chemicals. These receptors respond to minute\\npunctures of the epithelium, with a response magnitude'),\n",
       " Document(metadata={'producer': 'Prince 20150210 (www.princexml.com)', 'creator': 'PyPDF', 'creationdate': '', 'title': 'Anatomy of the Somatosensory System', 'source': './data/somatosensory.pdf', 'total_pages': 4, 'page': 2, 'page_label': '3'}, page_content='only to intense mechanical stimuli, but also to heat and\\nto noxious chemicals. These receptors respond to minute\\npunctures of the epithelium, with a response magnitude\\nthat depends on the degree of tissue deformation. They al-\\nso respond to temperatures in the range of 40–60°C, and\\nchange their response rates as a linear function of warm-\\ning (in contrast with the saturating responses displayed by\\nnon-noxious thermoreceptors at high temperatures).\\nPain signals can be separated into individual compo-\\nnents, corresponding to different types of nerve fibers\\nused for transmitting these signals. The rapidly transmit-\\nted signal, which often has high spatial resolution, is\\ncalled first pain or cutaneous pricking pain. It is well local-\\nized and easily tolerated. The much slower, highly affec-\\ntive component is called second pain or burning pain; it is\\npoorly localized and poorly tolerated. The third or deep\\npain, arising from viscera, musculature and joints, is also'),\n",
       " Document(metadata={'producer': 'Prince 20150210 (www.princexml.com)', 'creator': 'PyPDF', 'creationdate': '', 'title': 'Anatomy of the Somatosensory System', 'source': './data/somatosensory.pdf', 'total_pages': 4, 'page': 2, 'page_label': '3'}, page_content='tive component is called second pain or burning pain; it is\\npoorly localized and poorly tolerated. The third or deep\\npain, arising from viscera, musculature and joints, is also\\npoorly localized, can be chronic and is often associated\\nwith referred pain.\\nMuscle Spindles\\nScattered throughout virtually every striated muscle in the\\nbody are long, thin, stretch receptors called muscle spin-\\ndles. They are quite simple in principle, consisting of a few\\nsmall muscle fibers with a capsule surrounding the middle\\nthird of the fibers. These fibers are called intrafusal fibers,\\nin contrast to the ordinary extrafusal fibers. The ends of the\\nintrafusal fibers are attached to extrafusal fibers, so when-\\never the muscle is stretched, the intrafusal fibers are also\\nAnatomy of the Somatosensory System\\n3'),\n",
       " Document(metadata={'producer': 'Prince 20150210 (www.princexml.com)', 'creator': 'PyPDF', 'creationdate': '', 'title': 'Anatomy of the Somatosensory System', 'source': './data/somatosensory.pdf', 'total_pages': 4, 'page': 3, 'page_label': '4'}, page_content='Forcecontrolsignal\\nDrivingsignal\\nLengthcontrolsignal\\nLoad\\nExternalforces\\nTendonorgansMuscle force\\nMusclelength\\nForce feedback\\nLength &velocityfeedback\\nForce (Golgi tendon organ)\\nSpindles\\nGamma bias\\nLength (secondary muscle-spindel afferents)Length error (primary muscle-spindel afferents)Velocity (primary muscle-spindel afferents)\\nMuscle\\nInter-neurons\\nFigure 3: Feedback loops for proprioceptive signals for the perception and control of limb move-\\nments. Arrows indicate excitatory connections; filled circles inhibitory connections.\\nFor more examples of how to use\\nHTML and CSS for paper-based\\npublishing, see css4.pub.\\nstretched. The central region of each intrafusal fiber has\\nfew myofilaments and is non-contractile, but it does have\\none or more sensory endings applied to it. When the mus-\\ncle is stretched, the central part of the intrafusal fiber is\\nstretched and each sensory ending fires impulses.\\nMuscle spindles also receive a motor innervation. The'),\n",
       " Document(metadata={'producer': 'Prince 20150210 (www.princexml.com)', 'creator': 'PyPDF', 'creationdate': '', 'title': 'Anatomy of the Somatosensory System', 'source': './data/somatosensory.pdf', 'total_pages': 4, 'page': 3, 'page_label': '4'}, page_content='cle is stretched, the central part of the intrafusal fiber is\\nstretched and each sensory ending fires impulses.\\nMuscle spindles also receive a motor innervation. The\\nlarge motor neurons that supply extrafusal muscle fibers\\nare called alpha motor neurons, while the smaller ones sup-\\nplying the contractile portions of intrafusal fibers are\\ncalled gamma neurons. Gamma motor neurons can regu-\\nlate the sensitivity of the muscle spindle so that this sensi-\\ntivity can be maintained at any given muscle length.\\nJoint receptors\\nThe joint receptors are low-threshold mechanoreceptors\\nand have been divided into four groups. They signal differ-\\nent characteristics of joint function (position, movements,\\ndirection and speed of movements). The free receptors or\\ntype 4 joint receptors are nociceptors.\\nFrom Wikibooks\\n4')]"
      ]
     },
     "execution_count": 7,
     "metadata": {},
     "output_type": "execute_result"
    }
   ],
   "source": [
    "# Chunking func\n",
    "text_splitter = RecursiveCharacterTextSplitter(\n",
    "    chunk_size=1000,\n",
    "    chunk_overlap=200\n",
    ")\n",
    "\n",
    "# applying chunck fun to docs\n",
    "split_docs = text_splitter.split_documents(docs)\n",
    "split_docs"
   ]
  },
  {
   "cell_type": "markdown",
   "metadata": {},
   "source": [
    "## 3. Embeddings"
   ]
  },
  {
   "cell_type": "code",
   "execution_count": 7,
   "metadata": {},
   "outputs": [],
   "source": [
    "# Embedder function\n",
    "embedder = OpenAIEmbeddings(\n",
    "    model=\"text-embedding-3-large\",\n",
    "    api_key=os.getenv(\"OPEN_API_KEY\")\n",
    ")"
   ]
  },
  {
   "cell_type": "markdown",
   "metadata": {},
   "source": [
    "## 4. Setting Vector Store db - Qdrant"
   ]
  },
  {
   "cell_type": "markdown",
   "metadata": {},
   "source": [
    "### 4.a Adding Data into db"
   ]
  },
  {
   "cell_type": "code",
   "execution_count": null,
   "metadata": {},
   "outputs": [],
   "source": [
    "# connecting to Qdrant vector store (running locally through docker ~ docker compose -f docker-compose.db.yml up)\n",
    "vector_store = QdrantVectorStore.from_documents(\n",
    "    documents=[], # for the 1st time it will create\n",
    "    url=\"http://localhost:6333\", \n",
    "    collection_name=\"rag\", \n",
    "    embedding=embedder # openai embedder\n",
    ")\n",
    "\n",
    "# adding document(chunked)\n",
    "vector_store.add_documents(documents=split_docs)\n",
    "\n",
    "print('Injection done')"
   ]
  },
  {
   "cell_type": "markdown",
   "metadata": {},
   "source": [
    "### 4.b Retriving the Data via Retriver"
   ]
  },
  {
   "cell_type": "code",
   "execution_count": null,
   "metadata": {},
   "outputs": [],
   "source": [
    "retriver = QdrantVectorStore.from_documents(\n",
    "    documents=[], # for the 1st time it will create\n",
    "    url=\"http://localhost:6333\", \n",
    "    collection_name=\"rag\", \n",
    "    embedding=embedder # openai embedder\n",
    ")"
   ]
  },
  {
   "cell_type": "code",
   "execution_count": null,
   "metadata": {},
   "outputs": [],
   "source": [
    "# Doing similarity search on user's query\n",
    "relevant_chunk = retriver.similarity_search(query = \"What is Rapidly adapting ??\")\n",
    "relevant_chunk"
   ]
  },
  {
   "cell_type": "markdown",
   "metadata": {},
   "source": [
    "## 5. Creating System Prompt"
   ]
  },
  {
   "cell_type": "code",
   "execution_count": null,
   "metadata": {},
   "outputs": [],
   "source": [
    "# Feeding relevant chunk based on similarity seach to model's context\n",
    "SYSTEM_PROMPT  = f\"\"\"\n",
    "You are an helpful AI Assistant who respond based on the avalable context\n",
    "\n",
    "Context:\n",
    "{relevant_chunk}\n",
    "\"\"\""
   ]
  },
  {
   "cell_type": "markdown",
   "metadata": {},
   "source": [
    "## 6. Init Openai Client"
   ]
  },
  {
   "cell_type": "code",
   "execution_count": null,
   "metadata": {},
   "outputs": [],
   "source": [
    "# Init Openai client\n",
    "client = OpenAI(api_key=os.getenv(\"OPEN_API_KEY\"))\n",
    "\n",
    "user_query = \"What is Rapidly adapting ??\"\n",
    "\n",
    "response = client.chat.completions.create(\n",
    "    model=\"gpt-3.5-turbo\",\n",
    "    messages=[\n",
    "        {\"role\": \"system\", \"content\": SYSTEM_PROMPT},\n",
    "        {\"role\": \"user\", \"content\": user_query}\n",
    "    ],\n",
    "    temperature=0.7\n",
    ")\n",
    "\n",
    "# Print the response\n",
    "print(\"\\nUser Query:\", user_query)\n",
    "print(\"\\nAssistant Response:\", response.choices[0].message.content)"
   ]
  },
  {
   "cell_type": "markdown",
   "metadata": {},
   "source": [
    "## E2E Flow"
   ]
  },
  {
   "cell_type": "code",
   "execution_count": null,
   "metadata": {},
   "outputs": [],
   "source": [
    "from openai import OpenAI\n",
    "\n",
    "# Initialize client\n",
    "client = OpenAI(api_key=os.getenv(\"OPEN_API_KEY\"))\n",
    "\n",
    "# Function to get response from LLM\n",
    "def get_llm_response(system_prompt, user_query):\n",
    "    response = client.chat.completions.create(\n",
    "        model=\"gpt-3.5-turbo\",\n",
    "        messages=[\n",
    "            {\"role\": \"system\", \"content\": system_prompt},\n",
    "            {\"role\": \"user\", \"content\": user_query}\n",
    "        ],\n",
    "        temperature=0.7\n",
    "    )\n",
    "    return response.choices[0].message.content\n",
    "\n",
    "# Interactive loop for user queries\n",
    "def interactive_rag():\n",
    "    print(\"RAG Assistant ready. Type 'exit' to quit.\")\n",
    "    while True:\n",
    "        user_input = input(\"\\nYour question: \")\n",
    "        if user_input.lower() == 'exit':\n",
    "            break\n",
    "            \n",
    "        # Retrieve relevant chunks (this part you already have)\n",
    "        relevant_chunks = retriver.similarity_search(query=user_input)\n",
    "        \n",
    "        # Create system prompt with context\n",
    "        formatted_system_prompt = f\"\"\"\n",
    "        You are a helpful AI Assistant who responds based on the available context.\n",
    "        \n",
    "        Context:\n",
    "        {relevant_chunks}\n",
    "        \"\"\"\n",
    "        \n",
    "        # Get response from LLM\n",
    "        response = get_llm_response(formatted_system_prompt, user_input)\n",
    "        print(\"\\nAssistant:\", response)\n",
    "\n",
    "# Start the interactive session\n",
    "interactive_rag()"
   ]
  }
 ],
 "metadata": {
  "kernelspec": {
   "display_name": "venv",
   "language": "python",
   "name": "python3"
  },
  "language_info": {
   "codemirror_mode": {
    "name": "ipython",
    "version": 3
   },
   "file_extension": ".py",
   "mimetype": "text/x-python",
   "name": "python",
   "nbconvert_exporter": "python",
   "pygments_lexer": "ipython3",
   "version": "3.13.2"
  }
 },
 "nbformat": 4,
 "nbformat_minor": 2
}
