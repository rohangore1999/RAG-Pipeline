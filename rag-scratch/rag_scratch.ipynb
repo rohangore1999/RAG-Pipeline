{
 "cells": [
  {
   "cell_type": "markdown",
   "metadata": {},
   "source": [
    "## RAG FLOW\n",
    "\n",
    "![rag flow image](flow.png \"RAG FLOW\")"
   ]
  },
  {
   "cell_type": "code",
   "execution_count": 1,
   "metadata": {},
   "outputs": [
    {
     "data": {
      "text/plain": [
       "True"
      ]
     },
     "execution_count": 1,
     "metadata": {},
     "output_type": "execute_result"
    }
   ],
   "source": [
    "import os\n",
    "from dotenv import load_dotenv\n",
    "from pathlib import Path\n",
    "from langchain_community.document_loaders import PyPDFLoader\n",
    "from langchain_text_splitters import RecursiveCharacterTextSplitter\n",
    "from langchain_openai import OpenAIEmbeddings\n",
    "from langchain_qdrant import QdrantVectorStore\n",
    "from openai import OpenAI\n",
    "\n",
    "load_dotenv()"
   ]
  },
  {
   "cell_type": "code",
   "execution_count": 3,
   "metadata": {},
   "outputs": [],
   "source": [
    "file_path = \"./data/somatosensory.pdf\"\n",
    "\n",
    "loader = PyPDFLoader(file_path)"
   ]
  },
  {
   "cell_type": "markdown",
   "metadata": {},
   "source": [
    "## 1. Loading Data"
   ]
  },
  {
   "cell_type": "code",
   "execution_count": 4,
   "metadata": {},
   "outputs": [],
   "source": [
    "# 1 Data loading\n",
    "docs = loader.load()"
   ]
  },
  {
   "cell_type": "markdown",
   "metadata": {},
   "source": [
    "## 2. Chunking"
   ]
  },
  {
   "cell_type": "code",
   "execution_count": 6,
   "metadata": {},
   "outputs": [],
   "source": [
    "# Chunking func\n",
    "text_splitter = RecursiveCharacterTextSplitter(\n",
    "    chunk_size=1000,\n",
    "    chunk_overlap=200\n",
    ")\n",
    "\n",
    "# applying chunck fun to docs\n",
    "split_docs = text_splitter.split_documents(docs)"
   ]
  },
  {
   "cell_type": "markdown",
   "metadata": {},
   "source": [
    "## 3. Embeddings"
   ]
  },
  {
   "cell_type": "code",
   "execution_count": 7,
   "metadata": {},
   "outputs": [],
   "source": [
    "# Embedder function\n",
    "embedder = OpenAIEmbeddings(\n",
    "    model=\"text-embedding-3-large\",\n",
    "    api_key=os.getenv(\"OPEN_API_KEY\")\n",
    ")"
   ]
  },
  {
   "cell_type": "markdown",
   "metadata": {},
   "source": [
    "## 4. Setting Vector Store db - Qdrant"
   ]
  },
  {
   "cell_type": "markdown",
   "metadata": {},
   "source": [
    "### 4.a Adding Data into db"
   ]
  },
  {
   "cell_type": "code",
   "execution_count": null,
   "metadata": {},
   "outputs": [],
   "source": [
    "# connecting to Qdrant vector store (running locally through docker ~ docker compose -f docker-compose.db.yml up)\n",
    "vector_store = QdrantVectorStore.from_documents(\n",
    "    documents=[], # for the 1st time it will create\n",
    "    url=\"http://localhost:6333\", \n",
    "    collection_name=\"rag\", \n",
    "    embedding=embedder # openai embedder\n",
    ")\n",
    "\n",
    "# adding document(chunked)\n",
    "vector_store.add_documents(documents=split_docs)\n",
    "\n",
    "print('Injection done')"
   ]
  },
  {
   "cell_type": "markdown",
   "metadata": {},
   "source": [
    "### 4.b Retriving the Data via Retriver"
   ]
  },
  {
   "cell_type": "code",
   "execution_count": null,
   "metadata": {},
   "outputs": [],
   "source": [
    "retriver = QdrantVectorStore.from_documents(\n",
    "    documents=[], # for the 1st time it will create\n",
    "    url=\"http://localhost:6333\", \n",
    "    collection_name=\"rag\", \n",
    "    embedding=embedder # openai embedder\n",
    ")"
   ]
  },
  {
   "cell_type": "code",
   "execution_count": null,
   "metadata": {},
   "outputs": [],
   "source": [
    "# Doining similarity search on user's query\n",
    "relevant_chunk = retriver.similarity_search(query = \"What is Rapidly adapting ??\")\n",
    "relevant_chunk"
   ]
  },
  {
   "cell_type": "markdown",
   "metadata": {},
   "source": [
    "## 5. Creating System Prompt"
   ]
  },
  {
   "cell_type": "code",
   "execution_count": null,
   "metadata": {},
   "outputs": [],
   "source": [
    "# Feeding relevant chunk based on similarity seach to model's context\n",
    "SYSTEM_PROMPT  = f\"\"\"\n",
    "You are an helpful AI Assistant who respond based on the avalable context\n",
    "\n",
    "Context:\n",
    "{relevant_chunk}\n",
    "\"\"\""
   ]
  },
  {
   "cell_type": "markdown",
   "metadata": {},
   "source": [
    "## 6. Init Openai Client"
   ]
  },
  {
   "cell_type": "code",
   "execution_count": null,
   "metadata": {},
   "outputs": [],
   "source": [
    "# Init Openai client\n",
    "client = OpenAI(api_key=os.getenv(\"OPEN_API_KEY\"))\n",
    "\n",
    "user_query = \"What is Rapidly adapting ??\"\n",
    "\n",
    "response = client.chat.completions.create(\n",
    "    model=\"gpt-3.5-turbo\",\n",
    "    messages=[\n",
    "        {\"role\": \"system\", \"content\": SYSTEM_PROMPT},\n",
    "        {\"role\": \"user\", \"content\": user_query}\n",
    "    ],\n",
    "    temperature=0.7\n",
    ")\n",
    "\n",
    "# Print the response\n",
    "print(\"\\nUser Query:\", user_query)\n",
    "print(\"\\nAssistant Response:\", response.choices[0].message.content)"
   ]
  },
  {
   "cell_type": "markdown",
   "metadata": {},
   "source": [
    "## E2E Flow"
   ]
  },
  {
   "cell_type": "code",
   "execution_count": null,
   "metadata": {},
   "outputs": [],
   "source": [
    "from openai import OpenAI\n",
    "\n",
    "# Initialize client\n",
    "client = OpenAI(api_key=os.getenv(\"OPEN_API_KEY\"))\n",
    "\n",
    "# Function to get response from LLM\n",
    "def get_llm_response(system_prompt, user_query):\n",
    "    response = client.chat.completions.create(\n",
    "        model=\"gpt-3.5-turbo\",\n",
    "        messages=[\n",
    "            {\"role\": \"system\", \"content\": system_prompt},\n",
    "            {\"role\": \"user\", \"content\": user_query}\n",
    "        ],\n",
    "        temperature=0.7\n",
    "    )\n",
    "    return response.choices[0].message.content\n",
    "\n",
    "# Interactive loop for user queries\n",
    "def interactive_rag():\n",
    "    print(\"RAG Assistant ready. Type 'exit' to quit.\")\n",
    "    while True:\n",
    "        user_input = input(\"\\nYour question: \")\n",
    "        if user_input.lower() == 'exit':\n",
    "            break\n",
    "            \n",
    "        # Retrieve relevant chunks (this part you already have)\n",
    "        relevant_chunks = retriver.similarity_search(query=user_input)\n",
    "        \n",
    "        # Create system prompt with context\n",
    "        formatted_system_prompt = f\"\"\"\n",
    "        You are a helpful AI Assistant who responds based on the available context.\n",
    "        \n",
    "        Context:\n",
    "        {relevant_chunks}\n",
    "        \"\"\"\n",
    "        \n",
    "        # Get response from LLM\n",
    "        response = get_llm_response(formatted_system_prompt, user_input)\n",
    "        print(\"\\nAssistant:\", response)\n",
    "\n",
    "# Start the interactive session\n",
    "interactive_rag()"
   ]
  }
 ],
 "metadata": {
  "kernelspec": {
   "display_name": "venv",
   "language": "python",
   "name": "python3"
  },
  "language_info": {
   "codemirror_mode": {
    "name": "ipython",
    "version": 3
   },
   "file_extension": ".py",
   "mimetype": "text/x-python",
   "name": "python",
   "nbconvert_exporter": "python",
   "pygments_lexer": "ipython3",
   "version": "3.13.2"
  }
 },
 "nbformat": 4,
 "nbformat_minor": 2
}
